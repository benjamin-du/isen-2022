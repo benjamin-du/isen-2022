{
  "nbformat": 4,
  "nbformat_minor": 0,
  "metadata": {
    "kernelspec": {
      "display_name": "Python 3",
      "language": "python",
      "name": "python3"
    },
    "language_info": {
      "codemirror_mode": {
        "name": "ipython",
        "version": 3
      },
      "file_extension": ".py",
      "mimetype": "text/x-python",
      "name": "python",
      "nbconvert_exporter": "python",
      "pygments_lexer": "ipython3",
      "version": "3.7.6"
    },
    "colab": {
      "name": "Lesson 1.1 Neural Nets from Scratch - Linear regression.ipynb",
      "provenance": [],
      "include_colab_link": true
    }
  },
  "cells": [
    {
      "cell_type": "markdown",
      "metadata": {
        "id": "view-in-github",
        "colab_type": "text"
      },
      "source": [
        "<a href=\"https://colab.research.google.com/github/benjamin-du/deep-learning-course/blob/main/Lesson%201%20-%20NN%20from%20Scratch/Lesson%201.1%20Neural%20Nets%20from%20Scratch%20-%20Linear%20regression.ipynb\" target=\"_parent\"><img src=\"https://colab.research.google.com/assets/colab-badge.svg\" alt=\"Open In Colab\"/></a>"
      ]
    },
    {
      "cell_type": "markdown",
      "metadata": {
        "id": "q42RtMuUdKH3"
      },
      "source": [
        "<h1 style='text-align: center; color: lightblue; font-size: 40px'> Neural Nets from scratch </h1>\n",
        "<h2 style='text-align: center; color: lightblue; font-size: 30px'> Linear regression </h2>"
      ]
    },
    {
      "cell_type": "code",
      "metadata": {
        "id": "IU_80r0KdKH9"
      },
      "source": [
        "import pandas as pd\n",
        "import numpy as np\n",
        "import torch\n",
        "import math\n",
        "from functools import partial\n",
        "import matplotlib.pyplot as plt"
      ],
      "execution_count": 3,
      "outputs": []
    },
    {
      "cell_type": "markdown",
      "metadata": {
        "id": "DVEbT4EidKIF"
      },
      "source": [
        "# who knows how to perform linear regression using gradient descent ?\n",
        "Figure together the pseudo code"
      ]
    },
    {
      "cell_type": "markdown",
      "metadata": {
        "id": "BNKNA0uIdKIG"
      },
      "source": [
        "#Pseudo code:\n",
        "#g\n",
        "#i\n",
        "#t\n",
        "    #m\n",
        "    #c\n",
        "    #b\n",
        "    #u"
      ]
    },
    {
      "cell_type": "markdown",
      "metadata": {
        "id": "c1uW7ToHdKIK"
      },
      "source": [
        "# who can code it ? \n",
        "Create data that follow the function y=3x+2. Then figure a way to find back these parameters using gradient descent."
      ]
    },
    {
      "cell_type": "markdown",
      "metadata": {
        "id": "Ud1I91XddKIK"
      },
      "source": [
        "## Help: math equations for gradient calculation"
      ]
    },
    {
      "cell_type": "markdown",
      "metadata": {
        "id": "SQXgfsr-dKIL"
      },
      "source": [
        "\\begin{array}{c}\n",
        "{M S E=\\frac{1}{N} \\sum_{i=1}^{N}\\left(y_{i}-\\hat{y}_{i}\\right)^{2}} \\\\\n",
        "{M S E=\\frac{1}{N} \\sum_{i=1}^{N}\\left(y_{i}-(a x_{i} + b ) \\right)^{2}} \\\\\n",
        "{M S E=\\frac{1}{N} \\sum_{i=1}^{N}\\left(y_{i}-a x_{i} - b\\right)^{2}}\n",
        "\\end{array}\n",
        "\n",
        "\n"
      ]
    },
    {
      "cell_type": "markdown",
      "metadata": {
        "id": "nWS-3ELYdKIL"
      },
      "source": [
        "\\begin{aligned}\n",
        "\\frac{\\partial M S E}{\\partial a} &=\\frac{\\partial M S E}{\\partial \\hat{y}_{i}} \\cdot \\frac{\\partial \\hat{y}_{i}}{\\partial a}=\\frac{1}{N} \\sum_{i=1}^{N} 2\\left(y_{i}-a x_{i} - b\\right) \\cdot(-1)=-2 \\frac{1}{N} \\sum_{i=1}^{N}\\left(y_{i}-\\hat{y}_{i}\\right)* \\\\\n",
        "\\frac{\\partial M S E}{\\partial b} &=\\frac{\\partial M S E}{\\partial \\hat{y}_{i}} \\cdot \\frac{\\partial \\hat{y}_{i}}{\\partial b}=\\frac{1}{N} \\sum_{i=1}^{N} 2\\left(y_{i}-a x_{i} - b\\right) \\cdot\\left(-x_{i}\\right)=-2 \\frac{1}{N} \\sum_{i=1}^{N} x_{i}\\left(y_{i}-\\hat{y}_{i}\\right) **\n",
        "\\end{aligned}\n",
        "*the mean of errors\n",
        "\n",
        "\\**the mean of (errors * xi)"
      ]
    },
    {
      "cell_type": "markdown",
      "metadata": {
        "id": "7ch8P_gsdKIM"
      },
      "source": [
        "## Numpy solution"
      ]
    },
    {
      "cell_type": "code",
      "metadata": {
        "scrolled": true,
        "colab": {
          "base_uri": "https://localhost:8080/",
          "height": 282
        },
        "id": "X2P0-MTNdKIM",
        "outputId": "5d0680b3-b42c-4c93-9792-35636bebd104"
      },
      "source": [
        "import numpy as np\n",
        "import matplotlib.pyplot as plt\n",
        "# get data\n",
        "x = np.random.rand(300)\n",
        "y = 3 * x + 2 + (np.random.randn(300) * 0.05)\n",
        "\n",
        "plt.scatter(x, y)"
      ],
      "execution_count": 4,
      "outputs": [
        {
          "output_type": "execute_result",
          "data": {
            "text/plain": [
              "<matplotlib.collections.PathCollection at 0x7fb784142210>"
            ]
          },
          "metadata": {},
          "execution_count": 4
        },
        {
          "output_type": "display_data",
          "data": {
            "image/png": "[encoded data removed]",
            "text/plain": [
              "<Figure size 432x288 with 1 Axes>"
            ]
          },
          "metadata": {
            "needs_background": "light"
          }
        }
      ]
    },
    {
      "cell_type": "code",
      "metadata": {
        "id": "tMkPgeUzdKIN"
      },
      "source": [
        "# Your code here"
      ],
      "execution_count": 5,
      "outputs": []
    },
    {
      "cell_type": "code",
      "metadata": {
        "colab": {
          "base_uri": "https://localhost:8080/"
        },
        "id": "5c-Cwr3bdKIO",
        "outputId": "faa4b0cd-65e2-46de-c023-31d079f4b6a8"
      },
      "source": [
        "# initialize parameters (at first, we believe a=1 and b=1)\n",
        "a = \n",
        "b =\n",
        "\n",
        "# train:\n",
        "for epoch in range(2000):\n",
        "    # make predictions\n",
        "    y_hat = \n",
        "\n",
        "    # compute the loss\n",
        "    errors = \n",
        "    loss = \n",
        "\n",
        "    # print the loss to ensure training is going well:\n",
        "    if epoch % 100 == 0:\n",
        "        print(loss)\n",
        "\n",
        "    # backpropagate the loss\n",
        "    a_grad = \n",
        "    b_grad = \n",
        "\n",
        "    # update parameters\n",
        "    a -= a_grad * 0.001  # Try with and without the learning rate ;)\n",
        "    b = "
      ],
      "execution_count": 60,
      "outputs": [
        {
          "output_type": "stream",
          "name": "stdout",
          "text": [
            "4.485890581931972\n",
            "2.87984219457691\n",
            "1.8495186212623234\n",
            "1.1885491806336503\n",
            "0.7645378583256924\n",
            "0.4925467048118223\n",
            "0.31808424680885716\n",
            "0.2061917908450569\n",
            "0.13444179792817076\n",
            "0.08844602714407096\n",
            "0.058973808500297695\n",
            "0.04010328583884711\n",
            "0.028035356341720104\n",
            "0.020332759600292117\n",
            "0.015431919183830172\n",
            "0.012329767160530681\n",
            "0.01038282802539713\n",
            "0.009178322069503142\n",
            "0.00845147244945856\n",
            "0.008032454002227808\n"
          ]
        }
      ]
    },
    {
      "cell_type": "code",
      "metadata": {
        "colab": {
          "base_uri": "https://localhost:8080/"
        },
        "id": "_BQe0O8kdKIP",
        "outputId": "d1c539f2-f964-460a-b33c-e3f8d74e90fa"
      },
      "source": [
        "\n",
        "# Your a and b shouldn't be too far of 3 and 2\n",
        "print(a, b)"
      ],
      "execution_count": 61,
      "outputs": [
        {
          "output_type": "stream",
          "name": "stdout",
          "text": [
            "2.76896168927229 2.1146137978453505\n"
          ]
        }
      ]
    },
    {
      "cell_type": "code",
      "metadata": {
        "colab": {
          "base_uri": "https://localhost:8080/",
          "height": 282
        },
        "id": "WhovrXKLdKIQ",
        "outputId": "81324432-358e-4da3-d9c6-5234aff18700"
      },
      "source": [
        "y_pred = a * x + b\n",
        "plt.scatter(x, y)\n",
        "plt.plot(x, y_pred, color=\"red\")"
      ],
      "execution_count": 62,
      "outputs": [
        {
          "output_type": "execute_result",
          "data": {
            "text/plain": [
              "[<matplotlib.lines.Line2D at 0x7fb783724510>]"
            ]
          },
          "metadata": {},
          "execution_count": 62
        },
        {
          "output_type": "display_data",
          "data": {
            "image/png": "[encoded data removed]",
            "text/plain": [
              "<Figure size 432x288 with 1 Axes>"
            ]
          },
          "metadata": {
            "needs_background": "light"
          }
        }
      ]
    }
  ]
}