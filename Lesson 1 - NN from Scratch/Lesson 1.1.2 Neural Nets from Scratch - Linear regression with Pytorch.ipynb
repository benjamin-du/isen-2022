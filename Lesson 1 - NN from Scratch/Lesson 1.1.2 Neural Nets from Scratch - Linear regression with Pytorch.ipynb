{
  "nbformat": 4,
  "nbformat_minor": 0,
  "metadata": {
    "kernelspec": {
      "display_name": "Python 3",
      "language": "python",
      "name": "python3"
    },
    "language_info": {
      "codemirror_mode": {
        "name": "ipython",
        "version": 3
      },
      "file_extension": ".py",
      "mimetype": "text/x-python",
      "name": "python",
      "nbconvert_exporter": "python",
      "pygments_lexer": "ipython3",
      "version": "3.7.6"
    },
    "colab": {
      "name": "Lesson 1.1.2 Neural Nets from Scratch - Linear regression with Pytorch.ipynb",
      "provenance": []
    }
  },
  "cells": [
    {
      "cell_type": "markdown",
      "metadata": {
        "id": "BH6f7ik8k4kg"
      },
      "source": [
        "# Why pytorch ?"
      ]
    },
    {
      "cell_type": "markdown",
      "metadata": {
        "id": "WnlvuoiTk4kl"
      },
      "source": [
        "Pytorch looks a lot like numpy. And it has a lot of advantages. Let's see:"
      ]
    },
    {
      "cell_type": "markdown",
      "metadata": {
        "id": "6YNmkvYqk4kn"
      },
      "source": [
        "## Linear regression with pytorch"
      ]
    },
    {
      "cell_type": "code",
      "metadata": {
        "id": "QKkiYcQwk4ko"
      },
      "source": [
        "import torch\n",
        "import matplotlib.pyplot as plt"
      ],
      "execution_count": 1,
      "outputs": []
    },
    {
      "cell_type": "code",
      "metadata": {
        "colab": {
          "base_uri": "https://localhost:8080/",
          "height": 265
        },
        "id": "5KYF3Jjek4kq",
        "outputId": "99d11d5b-9c4d-40b9-bf3b-c05e870e9b5c"
      },
      "source": [
        "# see how close torch is to numpy ?\n",
        "x = torch.rand(300)\n",
        "y = 3 * x + 2 + (torch.randn(300) * 0.05)\n",
        "plt.scatter(x, y)\n",
        "plt.show()"
      ],
      "execution_count": 2,
      "outputs": [
        {
          "output_type": "display_data",
          "data": {
            "image/png": "[encoded data removed]",
            "text/plain": [
              "<Figure size 432x288 with 1 Axes>"
            ]
          },
          "metadata": {
            "needs_background": "light"
          }
        }
      ]
    },
    {
      "cell_type": "code",
      "metadata": {
        "colab": {
          "base_uri": "https://localhost:8080/"
        },
        "id": "L-o4Gz32k4kr",
        "outputId": "ae97efcf-2992-4df3-8313-47bfe0575dee"
      },
      "source": [
        "# pytorch has a concept of \"Parameter\", you'll see how powerful it is in a moment\n",
        "# fill in the blank\n",
        "a = torch.nn.Parameter(torch.tensor(1.))\n",
        "b = \n",
        "print(a, b)"
      ],
      "execution_count": 3,
      "outputs": [
        {
          "output_type": "stream",
          "name": "stdout",
          "text": [
            "Parameter containing:\n",
            "tensor(1., requires_grad=True) Parameter containing:\n",
            "tensor(1., requires_grad=True)\n"
          ]
        }
      ]
    },
    {
      "cell_type": "code",
      "metadata": {
        "colab": {
          "base_uri": "https://localhost:8080/"
        },
        "id": "W7J9bG62k4ks",
        "outputId": "6e58b730-8717-4182-aed9-902e03b74f0e"
      },
      "source": [
        "# whenever you calculate something using parameters (i.e, tensors with gradients),\n",
        "# you can do something.backward()\n",
        "print(a.grad)\n",
        "c = a * b\n",
        "c.backward()\n",
        "print(a.grad)"
      ],
      "execution_count": 4,
      "outputs": [
        {
          "output_type": "stream",
          "name": "stdout",
          "text": [
            "None\n",
            "tensor(1.)\n"
          ]
        }
      ]
    },
    {
      "cell_type": "code",
      "metadata": {
        "colab": {
          "base_uri": "https://localhost:8080/"
        },
        "id": "N-a7UdjXk4kt",
        "outputId": "175480d3-3aa3-473c-8a11-ef4099f704b3"
      },
      "source": [
        "# and you can use .zero_() to reset the parameter\n",
        "a.grad.zero_()\n",
        "print(a.grad)"
      ],
      "execution_count": 6,
      "outputs": [
        {
          "output_type": "stream",
          "name": "stdout",
          "text": [
            "tensor(0.)\n"
          ]
        }
      ]
    },
    {
      "cell_type": "code",
      "metadata": {
        "scrolled": true,
        "colab": {
          "base_uri": "https://localhost:8080/",
          "height": 282
        },
        "id": "D9fqcXJtk4kv",
        "outputId": "03a968b3-284c-4592-d757-c7fdc75034cb"
      },
      "source": [
        "# You'll get an error message. It should be easy to debug ;-)\n",
        "y_pred = (a * x + b).numpy()\n",
        "plt.scatter(x, y)\n",
        "plt.plot(x, y_pred)"
      ],
      "execution_count": 8,
      "outputs": [
        {
          "output_type": "execute_result",
          "data": {
            "text/plain": [
              "[<matplotlib.lines.Line2D at 0x7f5f95cf7ad0>]"
            ]
          },
          "metadata": {},
          "execution_count": 8
        },
        {
          "output_type": "display_data",
          "data": {
            "image/png": "[encoded data removed]",
            "text/plain": [
              "<Figure size 432x288 with 1 Axes>"
            ]
          },
          "metadata": {
            "needs_background": "light"
          }
        }
      ]
    },
    {
      "cell_type": "code",
      "metadata": {
        "colab": {
          "base_uri": "https://localhost:8080/"
        },
        "id": "GBFDyMaHk4kw",
        "outputId": "7c5589d5-f666-4832-c0da-bbc85dd9360b"
      },
      "source": [
        "# Re-initialize your parameters (just to avoid running the cell above each time your repeat the experiment)\n",
        "a = \n",
        "b = \n",
        "lr =  # choose a learning rate\n",
        "n_epochs  # pick a number of epochs\n",
        "\n",
        "for epoch in range(n_epochs):\n",
        "    # calculate the preds\n",
        "    y_pred = \n",
        "\n",
        "    # calculate the loss\n",
        "    mse = \n",
        "    if epoch % 1000 == 0:\n",
        "        print(mse)\n",
        "\n",
        "    # backward pass:\n",
        "    mse.____  # use what you've learned above\n",
        "\n",
        "    # gradient descent:\n",
        "    with torch.no_grad():\n",
        "        a -= a._____ * lr  # use what you've learned above\n",
        "        b -= \n",
        "        # here, if you don't put your gradients to zero, they will accumulate:\n",
        "        a.________\n",
        "        b.________"
      ],
      "execution_count": 10,
      "outputs": [
        {
          "output_type": "stream",
          "name": "stdout",
          "text": [
            "tensor(4.5822, grad_fn=<MeanBackward0>)\n",
            "tensor(0.1012, grad_fn=<MeanBackward0>)\n",
            "tensor(0.0602, grad_fn=<MeanBackward0>)\n",
            "tensor(0.0473, grad_fn=<MeanBackward0>)\n",
            "tensor(0.0373, grad_fn=<MeanBackward0>)\n",
            "tensor(0.0296, grad_fn=<MeanBackward0>)\n",
            "tensor(0.0236, grad_fn=<MeanBackward0>)\n",
            "tensor(0.0189, grad_fn=<MeanBackward0>)\n",
            "tensor(0.0152, grad_fn=<MeanBackward0>)\n",
            "tensor(0.0124, grad_fn=<MeanBackward0>)\n"
          ]
        }
      ]
    },
    {
      "cell_type": "code",
      "metadata": {
        "colab": {
          "base_uri": "https://localhost:8080/",
          "height": 282
        },
        "id": "caPZMy7Ik4ky",
        "outputId": "a916811a-6f2d-4693-be7e-f9ca914aefe5"
      },
      "source": [
        "y_pred = (a * x + b).detach().numpy()\n",
        "plt.scatter(x, y)\n",
        "plt.plot(x, y_pred, color=\"red\")"
      ],
      "execution_count": 11,
      "outputs": [
        {
          "output_type": "execute_result",
          "data": {
            "text/plain": [
              "[<matplotlib.lines.Line2D at 0x7f5f91c4e250>]"
            ]
          },
          "metadata": {},
          "execution_count": 11
        },
        {
          "output_type": "display_data",
          "data": {
            "image/png": "[encoded data removed]",
            "text/plain": [
              "<Figure size 432x288 with 1 Axes>"
            ]
          },
          "metadata": {
            "needs_background": "light"
          }
        }
      ]
    },
    {
      "cell_type": "code",
      "metadata": {
        "colab": {
          "base_uri": "https://localhost:8080/"
        },
        "id": "1G1IQy3Jk4kz",
        "outputId": "06f5c690-982b-42b2-a6be-aa887671bfc8"
      },
      "source": [
        "print(a, b)"
      ],
      "execution_count": 12,
      "outputs": [
        {
          "output_type": "stream",
          "name": "stdout",
          "text": [
            "Parameter containing:\n",
            "tensor(2.6806, requires_grad=True) Parameter containing:\n",
            "tensor(2.1848, requires_grad=True)\n"
          ]
        }
      ]
    },
    {
      "cell_type": "markdown",
      "metadata": {
        "id": "OlwQX7xak4k0"
      },
      "source": [
        "### Learn more\n",
        "You'll find another approach that uses more advanced pytorch functionalities <a href=\"https://github.com/fastai/course-v3/blob/master/nbs/dl1/lesson2-sgd.ipynb\"> here</a>, but it requires having the fastai library installed\n"
      ]
    },
    {
      "cell_type": "code",
      "metadata": {
        "id": "UHHhPbJOk4k0"
      },
      "source": [
        "# An interesting thing they do differently\n",
        "# is they store a and b in a single vector\n",
        "# And then perform matrix-vector multiplication"
      ],
      "execution_count": 13,
      "outputs": []
    },
    {
      "cell_type": "code",
      "metadata": {
        "id": "t4P7LoAxk4k1"
      },
      "source": [
        "x = torch.ones(200, 2)\n",
        "a = torch.nn.Parameter(torch.tensor([1., 1.]))"
      ],
      "execution_count": 14,
      "outputs": []
    },
    {
      "cell_type": "code",
      "metadata": {
        "colab": {
          "base_uri": "https://localhost:8080/",
          "height": 163
        },
        "id": "o3nVF7mAk4k1",
        "outputId": "b835fb01-156e-498d-9744-18d413be3e8c"
      },
      "source": [
        "a @ x"
      ],
      "execution_count": 15,
      "outputs": [
        {
          "output_type": "error",
          "ename": "RuntimeError",
          "evalue": "ignored",
          "traceback": [
            "\u001b[0;31m---------------------------------------------------------------------------\u001b[0m",
            "\u001b[0;31mRuntimeError\u001b[0m                              Traceback (most recent call last)",
            "\u001b[0;32m<ipython-input-15-62c303aa4a0a>\u001b[0m in \u001b[0;36m<module>\u001b[0;34m()\u001b[0m\n\u001b[0;32m----> 1\u001b[0;31m \u001b[0ma\u001b[0m \u001b[0;34m@\u001b[0m \u001b[0mx\u001b[0m\u001b[0;34m\u001b[0m\u001b[0;34m\u001b[0m\u001b[0m\n\u001b[0m",
            "\u001b[0;31mRuntimeError\u001b[0m: mat1 and mat2 shapes cannot be multiplied (1x2 and 200x2)"
          ]
        }
      ]
    },
    {
      "cell_type": "code",
      "metadata": {
        "colab": {
          "base_uri": "https://localhost:8080/"
        },
        "id": "355bkHo6k4k2",
        "outputId": "27ae2883-689b-4a3f-c447-b274dce74e12"
      },
      "source": [
        "x @ a"
      ],
      "execution_count": 16,
      "outputs": [
        {
          "output_type": "execute_result",
          "data": {
            "text/plain": [
              "tensor([2., 2., 2., 2., 2., 2., 2., 2., 2., 2., 2., 2., 2., 2., 2., 2., 2., 2.,\n",
              "        2., 2., 2., 2., 2., 2., 2., 2., 2., 2., 2., 2., 2., 2., 2., 2., 2., 2.,\n",
              "        2., 2., 2., 2., 2., 2., 2., 2., 2., 2., 2., 2., 2., 2., 2., 2., 2., 2.,\n",
              "        2., 2., 2., 2., 2., 2., 2., 2., 2., 2., 2., 2., 2., 2., 2., 2., 2., 2.,\n",
              "        2., 2., 2., 2., 2., 2., 2., 2., 2., 2., 2., 2., 2., 2., 2., 2., 2., 2.,\n",
              "        2., 2., 2., 2., 2., 2., 2., 2., 2., 2., 2., 2., 2., 2., 2., 2., 2., 2.,\n",
              "        2., 2., 2., 2., 2., 2., 2., 2., 2., 2., 2., 2., 2., 2., 2., 2., 2., 2.,\n",
              "        2., 2., 2., 2., 2., 2., 2., 2., 2., 2., 2., 2., 2., 2., 2., 2., 2., 2.,\n",
              "        2., 2., 2., 2., 2., 2., 2., 2., 2., 2., 2., 2., 2., 2., 2., 2., 2., 2.,\n",
              "        2., 2., 2., 2., 2., 2., 2., 2., 2., 2., 2., 2., 2., 2., 2., 2., 2., 2.,\n",
              "        2., 2., 2., 2., 2., 2., 2., 2., 2., 2., 2., 2., 2., 2., 2., 2., 2., 2.,\n",
              "        2., 2.], grad_fn=<MvBackward>)"
            ]
          },
          "metadata": {},
          "execution_count": 16
        }
      ]
    },
    {
      "cell_type": "markdown",
      "metadata": {
        "id": "N66ktj_Ak4k2"
      },
      "source": [
        "To get a visual understanding of matrix-vector (or matrix-matrix) multiplications, <a href=\"http://matrixmultiplication.xyz/\"> visit this link </a>"
      ]
    },
    {
      "cell_type": "markdown",
      "metadata": {
        "id": "g0gBK5x7k4k3"
      },
      "source": [
        "You can find a pytorch tutorial that dives deeply into the autograd and computation graph here <a href=\"https://towardsdatascience.com/understanding-pytorch-with-an-example-a-step-by-step-tutorial-81fc5f8c4e8e\"> here </a>"
      ]
    },
    {
      "cell_type": "code",
      "metadata": {
        "id": "mSdkWsAOk4k3"
      },
      "source": [
        ""
      ],
      "execution_count": null,
      "outputs": []
    }
  ]
}